{
  "cells": [
    {
      "cell_type": "markdown",
      "metadata": {
        "colab_type": "text",
        "id": "view-in-github"
      },
      "source": [
        "<a href=\"https://colab.research.google.com/github/cap508/PythonNotebooks/blob/main/DecisionTrees/DecisionTrees.ipynb\" target=\"_parent\"><img src=\"https://colab.research.google.com/assets/colab-badge.svg\" alt=\"Open In Colab\"/></a>"
      ]
    },
    {
      "cell_type": "markdown",
      "metadata": {
        "id": "nOuFtt-2STQi"
      },
      "source": [
        "# Decision Trees\n",
        "### Python Bootcamp 2024"
      ]
    },
    {
      "cell_type": "markdown",
      "metadata": {
        "id": "GKE_WC7YZ2yX"
      },
      "source": [
        "\n",
        "\n",
        "# Introduction\n",
        "\n",
        "Have you ever heard of the game 20 questions?\n",
        "\n",
        "In this game you are allowed to ask only yes and no questions. The aim is to  identify a person or thing that is hidden from you. A decision tree, is at heart, an example of how a computer might try to play that game. Unfortunately our computer doesn't have quite the range of imagination that you or I have so we will need to give it a little more structure in it's question asking. In deed we're going to give it the list of questions it can ask and say on the basis of the answers can you identify the thing we are thinking of.\n",
        "\n",
        "We're going to consider a problem in which the computer needs to learn how to distinguish between different classes of animal based on a number of predefined features. We're going to give it the questions it can ask but it is going to learn how to make use of those questions.\n",
        "\n",
        "The data we're going to use comes from Kaggle, a site which hosts machine learning competitions. In this case we are going to use the zoo-animal-classification data set\n",
        "\n",
        "https://www.kaggle.com/datasets/uciml/zoo-animal-classification.\n",
        "\n",
        "\n",
        "We have access to two separate csv files. The first, zoo.csv, contains the animals and their features. The second, class.csv, is simply a list of the class names. Let's dive into Python and have a look at the data.\n",
        "\n",
        "\n",
        "Let's start by adding the pandas package and reading the csv files from my github into two separate dataframes."
      ]
    },
    {
      "cell_type": "code",
      "execution_count": 1,
      "metadata": {
        "id": "9olYoBT_aAlV"
      },
      "outputs": [],
      "source": [
        "import pandas as pd\n",
        "\n",
        "# First we need to read in the data we are going to deal with.\n",
        "# for our example this is two files. The first (zoo) is a set of animals and their attributes.\n",
        "# the second is a set of labels that we have allocated to the animals.\n",
        "zoo_data = pd.read_csv('https://raw.githubusercontent.com/cap508/PythonNotebooks/main/DecisionTrees/zoo.csv')\n",
        "cls_data = pd.read_csv('https://raw.githubusercontent.com/cap508/PythonNotebooks/main/DecisionTrees/class.csv')\n"
      ]
    },
    {
      "cell_type": "markdown",
      "metadata": {
        "id": "PMy8HxHYavNv"
      },
      "source": [
        "## Examine the data\n",
        "\n",
        "It is good practice to take a look at the data before we start building a model so let's do that. In the code cell below use the pandas head function to look at the first few rows of each file to see what we have.\n",
        "If you can't remember how to do that unhide the following test block to get the instructions."
      ]
    },
    {
      "cell_type": "code",
      "execution_count": 2,
      "metadata": {
        "id": "ljbljMXv0WDZ"
      },
      "outputs": [],
      "source": [
        "# Enter your code into this cell"
      ]
    },
    {
      "cell_type": "markdown",
      "metadata": {
        "id": "s0YJ5ARFbPp2"
      },
      "source": [
        "\n",
        "### Solution\n"
      ]
    },
    {
      "cell_type": "code",
      "execution_count": null,
      "metadata": {
        "colab": {
          "base_uri": "https://localhost:8080/"
        },
        "id": "RU9GZstranib",
        "outputId": "1fb11309-af30-423d-a67e-db1d11b5be0c"
      },
      "outputs": [],
      "source": [
        "print(zoo_data.head(3))\n",
        "print(cls_data.head(3))"
      ]
    },
    {
      "cell_type": "markdown",
      "metadata": {
        "id": "5BzX4pesEmJn"
      },
      "source": [
        "### What does the data tell us.\n",
        "\n",
        "Each row in the table ***zoo_data*** is an animal and each column is a feature that the animal does (1) or does not (0) possess. Note that for the legs column we also include the number of legs that the animal has. Looking at the data it would appear that **breathes** here means breathes air and I struggle to know what the **catsize** feature represents as a **elephant** is catsize and a **duck** is not, all I can think is that this means 'larger than a cat'. The final column is the class type that we are trying to identify encoded as an integer.\n",
        "\n",
        "A quick note also that the integer on the left of the screen is the row number in the data set and not a feature of the data itself.\n",
        "\n",
        "Remember we can look at the data simply by typing the name of the object in the jupyter notebook, we do not need a print statement, if it's in a cell on it's own.\n",
        "\n",
        "\n",
        "When we look at the ***cls_data*** notice again that the first column of numbers is just the row number in the data set. The more important number is the ***class_number*** so class 1 is a mammal, class 2 is a bird etc. If we combine this information with the ***zoo_data*** file we see that \"aardvark\" is ***class_type*** 1 (mammal) and \"bass\" is ***class\\_type*** 4 (fish).\n"
      ]
    },
    {
      "cell_type": "markdown",
      "metadata": {
        "id": "vvDw3xP-F3nW"
      },
      "source": [
        "### Splitting our data\n",
        "\n",
        "Next we want to split our data up into training and test data. This is easy with packages in the \\textsf{sklearn} library. So let's include the package we need.\n"
      ]
    },
    {
      "cell_type": "code",
      "execution_count": 4,
      "metadata": {
        "id": "tVn1w5SccWpK"
      },
      "outputs": [],
      "source": [
        "from sklearn.model_selection import train_test_split\n",
        "\n",
        "\n",
        "# Then we will do a little bit of data manipulation before calling the split function.\n",
        "# These two lines create an input set (x) and a set of labels (y) from the zoo_data\n",
        "# data frame.\n",
        "\n",
        "x = zoo_data.iloc[:,1:17].values\n",
        "y = zoo_data.iloc[:,17].values\n",
        "\n",
        "# We should read [:,1:17] as ``all rows'' and ``columns 1 to 17''.\n",
        "# Remember that the columns are zero indexes and the upper bound is non inclusive so x has 16 columns.\n"
      ]
    },
    {
      "cell_type": "code",
      "execution_count": 5,
      "metadata": {
        "id": "skMNUaZtGj_p"
      },
      "outputs": [],
      "source": [
        "\n",
        "# Now we are in a position to split the data into training and testing sets.\n",
        "# Note:  it is usual to have 20% of the data for testing, but we could, of course,\n",
        "# choose any split percentage we want\n",
        "\n",
        "x_train, x_test, y_train, y_test = train_test_split(x, y, test_size = 0.2, random_state = 0)"
      ]
    },
    {
      "cell_type": "code",
      "execution_count": null,
      "metadata": {
        "colab": {
          "base_uri": "https://localhost:8080/"
        },
        "id": "vHf6oOoiGwsw",
        "outputId": "3cbdf9d7-e0e3-4836-ffb9-9b5f2bd2e4e9"
      },
      "outputs": [],
      "source": [
        "# Having made the split let's look at the size of the sets we have created.\n",
        "\n",
        "print(f\"x_train has size {x_train.shape}\")\n",
        "print(f\"x_test has size {x_test.shape}\")\n",
        "print(f\"y_train has size {y_train.shape}\")\n",
        "print(f\"y_test has size {y_test.shape}\")\n"
      ]
    },
    {
      "cell_type": "markdown",
      "metadata": {
        "id": "fRV-ihT4HEDg"
      },
      "source": [
        "## Question\n",
        "\n",
        "What does the shape of the data tell you? i.e. what does (80, 16) mean and what does (80,) mean?\n"
      ]
    },
    {
      "cell_type": "code",
      "execution_count": 7,
      "metadata": {
        "id": "w_Tlqej3G_qc"
      },
      "outputs": [],
      "source": [
        "# We are now finally in a position to create our first machine learning model.\n",
        "# Let's start by including the packages we need.\n",
        "# I've added a couple of extras here, so don't worry about them for the moment,\n",
        "# we will use them later.\n",
        "\n",
        "from sklearn.tree import DecisionTreeClassifier\n",
        "from sklearn.tree import plot_tree\n",
        "from sklearn.metrics import accuracy_score, classification_report,confusion_matrix, ConfusionMatrixDisplay\n",
        "from sklearn import metrics\n",
        "import matplotlib.pyplot as plt\n"
      ]
    },
    {
      "cell_type": "code",
      "execution_count": null,
      "metadata": {
        "colab": {
          "base_uri": "https://localhost:8080/",
          "height": 74
        },
        "id": "1cLR8CFZH1bE",
        "outputId": "20a4f983-eeb0-46f8-af0f-c66e3fcd728d"
      },
      "outputs": [],
      "source": [
        "# So here it, is the code you need to build a machine-learning model.\n",
        "\n",
        "clf = DecisionTreeClassifier()\n",
        "clf.fit(x_train, y_train)\n"
      ]
    },
    {
      "cell_type": "markdown",
      "metadata": {
        "id": "VW5KcWrNLxIj"
      },
      "source": [
        "That's it! the first line creates a classifier and the second line uses the data sets to do the model learning. It *fits* the model to the data, i.e. it calculates the best possible weights to minimise the errors in the training set.\n",
        "\n",
        "This pattern of:\n",
        "\n",
        "1.  Select and process the data\n",
        "2.  Select a model type\n",
        "3.  Fit the model to the data\n",
        "\n",
        "Is something you're going to see in almost every machine-learning problem."
      ]
    },
    {
      "cell_type": "markdown",
      "metadata": {
        "id": "AM-XVdo1MYcP"
      },
      "source": [
        "# Evaluating your model\n",
        "\n",
        "So now we have our model we'd better have a look at what we have created and how ``good'' it actually is.\n",
        "\n",
        "The first thing we are going to do is look at the *Accuracy* of the model. In the broadest sense this just says what percentage of the images it saw it got right. To be specific we mean ...\n",
        "\n",
        "$\n",
        "\\textsf{Accuracy} = \\frac{\\textsf{Numder of correct predictions}}{\\textsf{Numder of total predictons}}\n",
        "$\n",
        "\n",
        "Luckily for us there is a simple way to get this in python. The first step was to import the metrics package from sklearn (look back a few cells to see that we did that).\n",
        "\n",
        "Looking at the equation above we see that we make a claim about accuracy over a set of predictions. So let's ask our model to make a set of predictions for the test data that we created earlier."
      ]
    },
    {
      "cell_type": "code",
      "execution_count": null,
      "metadata": {
        "colab": {
          "base_uri": "https://localhost:8080/"
        },
        "id": "dSoY9ArnIDf7",
        "outputId": "78b040d8-3124-48d8-e0e0-3eb26764877f"
      },
      "outputs": [],
      "source": [
        "# call the predict function of our model (clf) and send it the test set.\n",
        "# store the result in a variable called y_pred.\n",
        "y_pred = clf.predict(x_test)\n",
        "\n",
        "# Now call the metrics package and ask for the model accuracy\n",
        "# Note that we have to give it the 'correct' answers so it can calculate\n",
        "# how well it has done.\n",
        "print(f\"Accuracy = {metrics.accuracy_score(y_test, y_pred)}\")"
      ]
    },
    {
      "cell_type": "markdown",
      "metadata": {
        "id": "NhoaZ1fvN4GD"
      },
      "source": [
        "### Interpreting the accuracy metric.\n",
        "\n",
        "The number you get returned will tell you how good your model is (for the data set provided) 1.0 is perfect, 0.0 means everything was wrong.\n",
        "\n",
        "*Note: There is randomness in our process, the machine learning and the test split so you may not always get the same answer. This is one issue with stating performance metrics with certainty. The first 4 or 5 times I ran this I got an accuracy of 1 and only 6 classes in the test set. On the last run I did I got an accuracy of 0.95 and all 7 classes in the test set.*"
      ]
    },
    {
      "cell_type": "markdown",
      "metadata": {
        "id": "skfnB51SOIJ8"
      },
      "source": [
        "### Confusion Matrices\n",
        "\n",
        "Another popular way of looking at the results produced by a classifier is using a confusion matrix.\n",
        "\n",
        "A confusion matrix is simply a grid (or table) which says how each sample was classified. The easiest way to understand it is to look at one. let's start by creating a confusion matrix for the training data."
      ]
    },
    {
      "cell_type": "code",
      "execution_count": null,
      "metadata": {
        "colab": {
          "base_uri": "https://localhost:8080/",
          "height": 449
        },
        "id": "hUTpZMzTN26Z",
        "outputId": "f03002bb-597b-4c18-d1aa-528566006f79"
      },
      "outputs": [],
      "source": [
        "# call our model this time sending in the training set\n",
        "y_pred = clf.predict(x_train)\n",
        "\n",
        "# We are going to call the metrics package again, but this time we will ask it\n",
        "# create a confusion matrix.\n",
        "cm_display = metrics.ConfusionMatrixDisplay(confusion_matrix = confusion_matrix(y_train, y_pred))\n",
        "\n",
        "# finally we ask the matrix to plot itself. Luckily the process of making\n",
        "# this pretty is all done for us.\n",
        "cm_display.plot()\n",
        "plt.show()"
      ]
    },
    {
      "cell_type": "markdown",
      "metadata": {
        "id": "n37_QMorQB7f"
      },
      "source": [
        "Here we see that the training set has 34 images of class 0 (mammal) which were all correctly classified."
      ]
    },
    {
      "cell_type": "markdown",
      "metadata": {
        "id": "T-15_sgiQKTx"
      },
      "source": [
        "### Challenge\n",
        "In the box below try creating a confusion matrix for the test data set."
      ]
    },
    {
      "cell_type": "code",
      "execution_count": 11,
      "metadata": {
        "id": "3TMX0IH5QAjy"
      },
      "outputs": [],
      "source": [
        "# enter your code into this cell"
      ]
    },
    {
      "cell_type": "markdown",
      "metadata": {
        "id": "zPL2WL4mQmQl"
      },
      "source": [
        "# Solution"
      ]
    },
    {
      "cell_type": "code",
      "execution_count": null,
      "metadata": {
        "colab": {
          "base_uri": "https://localhost:8080/",
          "height": 54
        },
        "id": "UwN8ygemQlg0",
        "outputId": "9190c7ab-5b73-4d2a-899f-8a4e162b33a9"
      },
      "outputs": [],
      "source": [
        "# Note we have to change both the set sent to the predict function\n",
        "# and the 'correct' labels sent to the display function.\n",
        "y_pred = clf.predict(x_test)\n",
        "cm_display = metrics.ConfusionMatrixDisplay(confusion_matrix = confusion_matrix(y_test, y_pred))\n",
        "\n",
        "cm_display.plot()\n",
        "plt.show()"
      ]
    },
    {
      "cell_type": "code",
      "execution_count": 12,
      "metadata": {
        "id": "RWk2FnLVQ2vo"
      },
      "outputs": [],
      "source": []
    },
    {
      "cell_type": "markdown",
      "metadata": {
        "id": "i9g8-KuAQ4Nl"
      },
      "source": [
        "#Note\n",
        "\n",
        "Although you may well find that the model works perfectly, this may not be the case for everyone.\n",
        "\n",
        "Here is an example I got from one run of the model.\n",
        "\n",
        "![Confusion Matrix - with error](https://github.com/cap508/PythonNotebooks/blob/main/DecisionTrees/CM_Test.png?raw=true)\n",
        "\n",
        "Here we see that there is one sample of class 4 (amphibian) that is incorrectly classified as class 2 (bird). You can also see that the data split gave us no samples of class 2 in our test set. Notice that we only have four amphibians in our entire data set so maybe that's why the model struggles to learn how to classify these."
      ]
    },
    {
      "cell_type": "markdown",
      "metadata": {
        "id": "9oVAUKs_S2L2"
      },
      "source": [
        "# Vizualizing our Decision Tree\n",
        "One nice thing about decision trees is that, at least on simple cases, are relatively easy to decipher. Luckily there are python packages which allow us to see how the tree looks in a nice graphical form.\n",
        "\n",
        "First we want to get the data into the correct form to pass to the vizualization function. This is a little complicated and I've entered it into the worksheet for you but just for completeness I list it here.\n",
        "\n",
        "You can try to understand what it's doing, but it's really not necessary at this point."
      ]
    },
    {
      "cell_type": "code",
      "execution_count": null,
      "metadata": {
        "colab": {
          "base_uri": "https://localhost:8080/"
        },
        "id": "0bJig4qhSH07",
        "outputId": "2c4b29af-3a67-436c-dcd3-f281be7abf48"
      },
      "outputs": [],
      "source": [
        "# First we need the feature names\n",
        "feature_names = zoo_data.columns[1:17]\n",
        "\n",
        "# Then it gets a little complicated as we need to link the two data tables and\n",
        "# get the class names in the 'correct' order\n",
        "viz = zoo_data.copy()\n",
        "viz[\"class_type\"]=viz[\"class_type\"].values.astype(str)\n",
        "target_nums = viz['class_type'].unique().tolist()\n",
        "\n",
        "target_names = []\n",
        "for i in target_nums:\n",
        "  for j in range(len(cls_data)):\n",
        "    if eval(i) == cls_data['Class_Number'][j]:\n",
        "      target_names.append(cls_data['Class_Type'][j])\n",
        "\n",
        "# Finally let's print out our results.\n",
        "print(feature_names)\n",
        "print(target_names)"
      ]
    },
    {
      "cell_type": "markdown",
      "metadata": {
        "id": "ZsMq9JV4TTWe"
      },
      "source": [
        "Now we are in a position to generate our visualization of the learnt tree. We make use of a function called ***plot_tree*** from the ***sklearn*** library."
      ]
    },
    {
      "cell_type": "code",
      "execution_count": null,
      "metadata": {
        "colab": {
          "base_uri": "https://localhost:8080/",
          "height": 1000
        },
        "id": "LUkTCXkJTbJQ",
        "outputId": "b41f1a5a-65fc-49b6-8243-e4735a558908"
      },
      "outputs": [],
      "source": [
        "from sklearn.tree import plot_tree # tree diagram\n",
        "\n",
        "plt.figure(figsize=(25, 20))\n",
        "plot_tree(clf, feature_names = feature_names, class_names = target_names, filled = True, rounded = False)\n",
        "\n",
        "plt.savefig('tree_visualization.png')"
      ]
    },
    {
      "cell_type": "markdown",
      "metadata": {
        "id": "NrF7J0k1ToaV"
      },
      "source": [
        "## Understanding the tree\n",
        "\n",
        "The result is shown as a tree in which each box show a decision to be made, e.g. $\\textsf{milk} <= 0.5$. if the answer is true then we take the left branch if the answer is false we take the right branch. In the case shown here then if $\\textsf{milk} = 1$ then $\\textsf{milk} <= 0.5$ is false and we take the right branch will is has no further decisions and the animal is a $\\textsf{Mammal}$.\n",
        "\n",
        "I leave understanding the other variables in the nodes to your own research but this is not crucial to understanding the basics of creating and analysing a decision tree. I would note however that whilst this tree is relatively simple to understand, it is easy for decision trees to become large, unwieldy and hence difficult to understand for real-world problems."
      ]
    },
    {
      "cell_type": "markdown",
      "metadata": {
        "id": "W9n62CjQUAoR"
      },
      "source": [
        "# Using the model in the wild\n",
        "\n",
        "As a final exercise try entering the features of an animal and seeing if your model works more generally. Can you think of a creature which doesn't conform?\n",
        "\n",
        "How about mythical creatures?\n",
        "\n",
        "Using the cell below change the features of an animal and run your model to see what it predicts.\n",
        "\n",
        "Also, what animal was I thinking of when I created this?"
      ]
    },
    {
      "cell_type": "code",
      "execution_count": null,
      "metadata": {
        "colab": {
          "base_uri": "https://localhost:8080/"
        },
        "id": "OT6Q2JtrT-fv",
        "outputId": "69104ca3-d6e6-4d77-8d77-e2f426f88d1a"
      },
      "outputs": [],
      "source": [
        "# Animal Features\n",
        "hair = 0\n",
        "feathers = 1\n",
        "eggs = 1\n",
        "milk = 0\n",
        "airborne = 0\n",
        "aquatic = 1\n",
        "preadtor = 0\n",
        "toothed = 0\n",
        "backbone = 1\n",
        "breathes = 1\n",
        "venomous = 0\n",
        "fins = 0\n",
        "legs = 2\n",
        "tail = 0\n",
        "domestic = 0\n",
        "catsize = 0\n",
        "\n",
        "# Make a list\n",
        "my_animal = [hair, feathers, eggs, milk, airborne, aquatic, preadtor, toothed, backbone, breathes, venomous, fins, legs, tail, domestic, catsize]\n",
        "\n",
        "# Call the model\n",
        "pred = clf.predict([my_animal])\n",
        "animal_type = cls_data[cls_data['Class_Number']==pred[0]]['Class_Type'].values[0]\n",
        "\n",
        "print(f\"Your animal is {animal_type}\")"
      ]
    },
    {
      "cell_type": "code",
      "execution_count": null,
      "metadata": {
        "id": "DmYPLJ4UUYg6"
      },
      "outputs": [],
      "source": []
    }
  ],
  "metadata": {
    "colab": {
      "authorship_tag": "ABX9TyN0TM5boNjqWvaIHDZ/joE4",
      "collapsed_sections": [
        "s0YJ5ARFbPp2"
      ],
      "include_colab_link": true,
      "provenance": []
    },
    "kernelspec": {
      "display_name": "Python 3",
      "name": "python3"
    },
    "language_info": {
      "name": "python"
    }
  },
  "nbformat": 4,
  "nbformat_minor": 0
}
