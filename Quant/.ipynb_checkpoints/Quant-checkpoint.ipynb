{
 "cells": [
  {
   "cell_type": "markdown",
   "id": "e9dd8db5",
   "metadata": {
    "id": "e9dd8db5"
   },
   "source": [
    "# Presenting experimental results\n",
    "\n",
    "## link : https://bit.ly/3MT4kze"
   ]
  },
  {
   "cell_type": "markdown",
   "id": "9f57396a",
   "metadata": {
    "id": "9f57396a"
   },
   "source": [
    "When you undertake an experiment you are typically gathering observations from a process which is often unknowable. In such a case we are looking for models which explain the observations.\n",
    "\n",
    "Let us say, for example that we want to know how long it takes for a kettle to boil from cold. The simplest approach would be to boil the kettle and report our results. We want to make sure the results are repeatable so we construct the following experiment\n",
    "\n",
    "<img src=\"https://github.com/cap508/PythonNotebooks/blob/main/Quant/images/kettle.png?raw=true\" width=\"100\">\n",
    "\n",
    "\n",
    "1. Fill a Kettle with exactly 1 litre of water at $20^\\circ C$.\n",
    "2. Time how long it takes to switch off after once the kettle is switched on. \n",
    "3. Report the time in seconds"
   ]
  },
  {
   "cell_type": "code",
   "execution_count": null,
   "id": "9f089732",
   "metadata": {
    "colab": {
     "base_uri": "https://localhost:8080/",
     "height": 300
    },
    "executionInfo": {
     "elapsed": 2097,
     "status": "error",
     "timestamp": 1700677355991,
     "user": {
      "displayName": "Colin Paterson",
      "userId": "11890894921089994749"
     },
     "user_tz": 0
    },
    "id": "9f089732",
    "outputId": "a7d1d20e-9dc9-46f7-f3d6-4f2a8c0062a0"
   },
   "outputs": [],
   "source": [
    "#### This block is simply supporting code.\n",
    "\n",
    "import pandas as pd\n",
    "import numpy as np\n",
    "import matplotlib.pyplot as plt\n",
    "import scipy.stats as stats\n",
    "from numpy import random\n",
    "\n",
    "\n",
    "kettle1 = pd.read_csv('https://raw.githubusercontent.com/cap508/PythonNotebooks/main/Quant/data1.csv', header=None).values\n",
    "kettle1 = kettle1[:,0]\n",
    "\n",
    "def runExperiment(ExperimentalData, num):\n",
    "    x = random.choice(ExperimentalData, num, replace = False)\n",
    "    return x"
   ]
  },
  {
   "cell_type": "code",
   "execution_count": null,
   "id": "1c93a9fe",
   "metadata": {
    "id": "1c93a9fe"
   },
   "outputs": [],
   "source": [
    "#### Run an experiment and report the result\n",
    "\n",
    "\n",
    "time = runExperiment(kettle1, 1) # (experiment to run, number of runs)\n",
    "print(f\"Time to boil a kettle is : {time} seconds\")"
   ]
  },
  {
   "cell_type": "markdown",
   "id": "19485539",
   "metadata": {
    "id": "19485539"
   },
   "source": [
    "### Questions\n",
    "\n",
    "1. What is wrong with this statement?\n",
    "2. If you saw this written in an academic paper as the result of an experiment what might you feedback?"
   ]
  },
  {
   "cell_type": "markdown",
   "id": "8e2258aa",
   "metadata": {
    "id": "8e2258aa"
   },
   "source": [
    "## Descriptive statistics\n",
    "\n",
    "Because we recognise that the world is stochastic we might decide to run the experiment 30 times\n",
    "(maybe we read somewhere that this was a good number). We then report the average of the times we recorded.\n",
    "\n",
    " - Repeat the boiling experiment 30 times allowing the kettle to cooldown to room temperature between runs."
   ]
  },
  {
   "cell_type": "code",
   "execution_count": null,
   "id": "43f7035c",
   "metadata": {
    "colab": {
     "base_uri": "https://localhost:8080/"
    },
    "executionInfo": {
     "elapsed": 359,
     "status": "ok",
     "timestamp": 1669644847468,
     "user": {
      "displayName": "Colin Paterson",
      "userId": "11890894921089994749"
     },
     "user_tz": 0
    },
    "id": "43f7035c",
    "outputId": "e8a6bf00-106c-4651-e705-a4c2ed0be6b0"
   },
   "outputs": [],
   "source": [
    "times = runExperiment(kettle1, 30)\n",
    "\n",
    "print(times)\n",
    "print(f\"The average time taken to boil the kettle was {np.mean(times)} seconds\")"
   ]
  },
  {
   "cell_type": "markdown",
   "id": "e629606c",
   "metadata": {
    "id": "e629606c"
   },
   "source": [
    "### Questions\n",
    "\n",
    "1. Is Mean the best measure of centrality, when might you choose something else?\n",
    "2. When would the 'spread' of values returned we important?"
   ]
  },
  {
   "cell_type": "markdown",
   "id": "53965d58",
   "metadata": {
    "id": "53965d58"
   },
   "source": [
    "# Variation\n",
    "\n",
    "So we realise we can measure the amount of variation of values and this might be useful to report so we choose to report the standard deviation."
   ]
  },
  {
   "cell_type": "code",
   "execution_count": null,
   "id": "a1b3f27d",
   "metadata": {
    "colab": {
     "base_uri": "https://localhost:8080/"
    },
    "executionInfo": {
     "elapsed": 434,
     "status": "ok",
     "timestamp": 1669644987952,
     "user": {
      "displayName": "Colin Paterson",
      "userId": "11890894921089994749"
     },
     "user_tz": 0
    },
    "id": "a1b3f27d",
    "outputId": "8ec1b652-3c55-400b-ed22-700f3ddf10ff"
   },
   "outputs": [],
   "source": [
    "sd = np.std(times)\n",
    "\n",
    "print(\"The standard deviation associated with the time to boil a kettle is {:.2f} seconds\".format(sd))"
   ]
  },
  {
   "cell_type": "markdown",
   "id": "cc93084f",
   "metadata": {
    "id": "cc93084f"
   },
   "source": [
    "### Standard Deviation\n",
    "\n",
    "Sandard deviation tells us how spread the numbers are. Commonly it is stated that 68% of all values will fall within on standard deviation and 95% of all values will fall within 2 standard deviations.\n",
    "\n",
    "![title](https://cdn.scribbr.com/wp-content/uploads/2020/09/standard-deviation-in-normal-distributions.png)\n",
    "\n",
    "image from : https://www.scribbr.com/statistics/standard-deviation/"
   ]
  },
  {
   "cell_type": "code",
   "execution_count": null,
   "id": "aa15afee",
   "metadata": {
    "colab": {
     "base_uri": "https://localhost:8080/"
    },
    "executionInfo": {
     "elapsed": 523,
     "status": "ok",
     "timestamp": 1669645073950,
     "user": {
      "displayName": "Colin Paterson",
      "userId": "11890894921089994749"
     },
     "user_tz": 0
    },
    "id": "aa15afee",
    "outputId": "1a10265d-cfaa-43a1-feff-d5a6fbadee7b"
   },
   "outputs": [],
   "source": [
    "# Is this true for our kettle?\n",
    "\n",
    "experimentSize = 500 # maximum allowable = 10,000\n",
    "mul = 1\n",
    "\n",
    "times = runExperiment(kettle1, experimentSize)\n",
    "\n",
    "lower = np.mean(times)-mul*np.std(times)\n",
    "upper = np.mean(times)+mul*np.std(times)\n",
    "print(\"Mean, {:.2f}, Std {:.2f}, M-1SD {:.2f}, M+1SD {:.2f}\".format(np.mean(times), np.std(times), lower, upper))\n",
    "\n",
    "count = np.sum(times < lower) + np.sum(time>upper)\n",
    "print(f\"Number outside limit {count}\")\n",
    "\n",
    "print(\"Percentage {:.2f}\".format((1- (count/experimentSize))*100))"
   ]
  },
  {
   "cell_type": "markdown",
   "id": "977253cf",
   "metadata": {
    "id": "977253cf"
   },
   "source": [
    "### Question\n",
    "\n",
    "1. Do you think that our experimental data is normal?\n",
    "2. Do you think that our generating process (i.e. ground truth) is normal?"
   ]
  },
  {
   "cell_type": "code",
   "execution_count": null,
   "id": "72da7260",
   "metadata": {
    "colab": {
     "base_uri": "https://localhost:8080/"
    },
    "executionInfo": {
     "elapsed": 466,
     "status": "ok",
     "timestamp": 1669645344533,
     "user": {
      "displayName": "Colin Paterson",
      "userId": "11890894921089994749"
     },
     "user_tz": 0
    },
    "id": "72da7260",
    "outputId": "cf3588ac-b1ee-424b-82b3-00b33e20e355"
   },
   "outputs": [],
   "source": [
    "# Let's retry with a normal distribution.\n",
    "\n",
    "# dataSize is the number of samples in an experiment\n",
    "dataSize = 1000\n",
    "trueMean = 0.0\n",
    "trueScale = 2.0\n",
    "confidence = 95\n",
    "mul=1\n",
    "data = np.random.normal(loc=trueMean, scale = trueScale, size = dataSize)\n",
    "\n",
    "\n",
    "lower = np.mean(data)-mul*np.std(data)\n",
    "upper = np.mean(data)+mul*np.std(data)\n",
    "print(\"Mean, {:.2f}, Std {:.2f}, M-1SD {:.2f}, M+1SD {:.2f}\".format(np.mean(data), np.std(data), lower, upper))\n",
    "\n",
    "count = np.sum(data < lower) + np.sum(data >upper)\n",
    "print(f\"Number outside limit {count}\")\n",
    "\n",
    "print(\"Percentage {:.2f}\".format((1- (count/dataSize))*100))\n",
    "\n"
   ]
  },
  {
   "cell_type": "code",
   "execution_count": null,
   "id": "beebb6b8",
   "metadata": {
    "colab": {
     "base_uri": "https://localhost:8080/",
     "height": 285
    },
    "executionInfo": {
     "elapsed": 406,
     "status": "ok",
     "timestamp": 1669645412397,
     "user": {
      "displayName": "Colin Paterson",
      "userId": "11890894921089994749"
     },
     "user_tz": 0
    },
    "id": "beebb6b8",
    "outputId": "42ec4b65-29b9-4092-a1e3-7b8c5d819fce"
   },
   "outputs": [],
   "source": [
    "# Remember we can visualise our data to 'eyeball' the distribution\n",
    "\n",
    "plt.hist(times, bins = 50)\n",
    "plt.show()"
   ]
  },
  {
   "cell_type": "markdown",
   "id": "d6beabd7",
   "metadata": {
    "id": "d6beabd7"
   },
   "source": [
    "## Confidence Intervals"
   ]
  },
  {
   "cell_type": "markdown",
   "id": "1e363b2e",
   "metadata": {
    "id": "1e363b2e"
   },
   "source": [
    "Closely linked to standard deviation is the concept of confidence intervals.\n",
    "\n",
    "A confidence interval is typically associated with the calculation of the mean and is best thought of as follows:\n",
    "\n",
    "If I consider a 95% confidence interval then were I to run this experiment again and again then in 95% of tries I would expect the true mean to fall within the confidence interval."
   ]
  },
  {
   "cell_type": "code",
   "execution_count": null,
   "id": "36e50cb6",
   "metadata": {
    "colab": {
     "base_uri": "https://localhost:8080/"
    },
    "executionInfo": {
     "elapsed": 882,
     "status": "ok",
     "timestamp": 1669645774974,
     "user": {
      "displayName": "Colin Paterson",
      "userId": "11890894921089994749"
     },
     "user_tz": 0
    },
    "id": "36e50cb6",
    "outputId": "6beb36ee-699e-4246-ef49-bdfc13255d89"
   },
   "outputs": [],
   "source": [
    "# a simple function to return a mean an confidence interval for a dataset\n",
    "def mean_confidence_interval(data, confidence=0.95):\n",
    "    a = 1.0 * np.array(data)\n",
    "    n = len(a)\n",
    "    m, se = np.mean(a), stats.sem(a)\n",
    "    h = se * stats.t.ppf((1 + confidence) / 2., n-1)\n",
    "    return m, m-h, m+h\n",
    "\n",
    "# Let's run our initial experiment to caculate a mean and a confidence interval\n",
    "# we will use a normally distributed set of data\n",
    "\n",
    "# dataSize is the number of samples in an experiment\n",
    "dataSize = 30\n",
    "trueMean = 0.0\n",
    "trueScale = 2.0\n",
    "confidence = 95\n",
    "data = np.random.normal(loc=trueMean, scale = trueScale, size = dataSize)\n",
    "\n",
    "ret = mean_confidence_interval(data, confidence/100)\n",
    "print(ret)\n",
    "\n",
    "\n",
    "\n",
    "\n",
    "# now let's check this by runnin the experiment a number of times?\n",
    "\n",
    "experimentCount = 100\n",
    "count = 0\n",
    "for i in range(experimentCount):\n",
    "    data = np.random.normal(loc=trueMean, scale = trueScale, size = dataSize)\n",
    "    ret = mean_confidence_interval(data, confidence/100)\n",
    "    # Report if the mean is outside of the range we expected.\n",
    "    if trueMean < ret[1]:\n",
    "        count = count +1\n",
    "    if trueMean > ret[2]:\n",
    "        count = count+1\n",
    "\n",
    "print (f\"Count {count}/{experimentCount} : compared to {100-confidence}/100\")\n"
   ]
  },
  {
   "cell_type": "markdown",
   "id": "9c463f0c",
   "metadata": {
    "id": "9c463f0c"
   },
   "source": [
    "## TRY :\n",
    "1. Running the cell above to see how consistent the results are\n",
    "2. Changing the confidence interval, dataSize and experiment count to see what the effect is\n",
    "3. Changing the parameters of the normal distribution you are estimating"
   ]
  },
  {
   "cell_type": "markdown",
   "id": "3c2d0c21",
   "metadata": {
    "id": "3c2d0c21"
   },
   "source": [
    "## Experimental result or noise"
   ]
  },
  {
   "cell_type": "markdown",
   "id": "aa1040ea",
   "metadata": {
    "id": "aa1040ea"
   },
   "source": [
    "When we come up with a new methods, approach, treatment, etc. we support the claim that our work was responsible for the effects seem. However because the values vary due to stochastic effects it's not simpe to say that the difference wasn't just due to luck.\n",
    "\n",
    "Let's start with an example where we have two experiments the first \"treat1\" is the benchmark. The second uses a new method we have proposed."
   ]
  },
  {
   "cell_type": "code",
   "execution_count": null,
   "id": "e0ffc3d2",
   "metadata": {
    "id": "e0ffc3d2"
   },
   "outputs": [],
   "source": [
    "# Let's start by getting the full data sets\n",
    "\n",
    "treat1 = pd.read_csv('https://raw.githubusercontent.com/cap508/PythonNotebooks/main/Quant/treat1.csv', header=None).values\n",
    "treat1 = treat1[:,0]\n",
    "\n",
    "\n",
    "treat2 = pd.read_csv('https://raw.githubusercontent.com/cap508/PythonNotebooks/main/Quant/treat2.csv', header=None).values\n",
    "treat2 = treat2[:,0]\n",
    "\n",
    "# then create an exeriment\n",
    "\n",
    "experimentSize = 10\n",
    "\n",
    "exp1 = runExperiment(treat1, experimentSize)\n",
    "exp2 = runExperiment(treat2, experimentSize)\n"
   ]
  },
  {
   "cell_type": "code",
   "execution_count": null,
   "id": "3a8ef077",
   "metadata": {
    "colab": {
     "base_uri": "https://localhost:8080/",
     "height": 285
    },
    "executionInfo": {
     "elapsed": 429,
     "status": "ok",
     "timestamp": 1669645892409,
     "user": {
      "displayName": "Colin Paterson",
      "userId": "11890894921089994749"
     },
     "user_tz": 0
    },
    "id": "3a8ef077",
    "outputId": "b46806a5-ff19-4ce1-bc4e-0c3d373c5af0"
   },
   "outputs": [],
   "source": [
    "# now let's visualize our data\n",
    "\n",
    "plt.hist(exp1, alpha=0.5, color='blue')\n",
    "plt.hist(exp2, alpha=0.5, color='red')\n",
    "plt.show()"
   ]
  },
  {
   "cell_type": "markdown",
   "id": "76356570",
   "metadata": {
    "id": "76356570"
   },
   "source": [
    "## Question\n",
    "\n",
    "1. Do you believe there is a difference in the data and why?\n",
    "2. If you run the experiements again do you change your mind?\n",
    "3. does increasing the experimentSize change your opinion?\n",
    "4. Do you think the data is normally distributed"
   ]
  },
  {
   "cell_type": "markdown",
   "id": "210648bc",
   "metadata": {
    "id": "210648bc"
   },
   "source": [
    "## A test for normality\n",
    "\n",
    "Shapiro-Wilk is a way of assessing if a sample is normally distributed. We use hypothesis testing and set a null hypothesis\n",
    "\n",
    "H0 : the data is normally distributed\n",
    "\n",
    "If the test returns a p-value of less than $\\alpha$ then we reject the null hypothesis, It is common to set $\\alpha=0.5$ but this significance level can be varied depending on the field of study.\n",
    "\n"
   ]
  },
  {
   "cell_type": "code",
   "execution_count": null,
   "id": "b6dac4cf",
   "metadata": {
    "colab": {
     "base_uri": "https://localhost:8080/"
    },
    "executionInfo": {
     "elapsed": 399,
     "status": "ok",
     "timestamp": 1669646067028,
     "user": {
      "displayName": "Colin Paterson",
      "userId": "11890894921089994749"
     },
     "user_tz": 0
    },
    "id": "b6dac4cf",
    "outputId": "ffda4ac9-6917-409d-fda9-f6de3df83e7d"
   },
   "outputs": [],
   "source": [
    "w, pvalue = stats.shapiro(exp1)\n",
    "print(f\"The returned p-value is {pvalue}\")\n",
    "\n",
    "if (pvalue > 0.05):\n",
    "    print(\"The test indicates that the data is likely to be normally distributed\")\n",
    "else:\n",
    "    print(\"The test indicates that the data is NOT likely to be normally distributed\")"
   ]
  },
  {
   "cell_type": "code",
   "execution_count": null,
   "id": "7135be0e",
   "metadata": {
    "colab": {
     "base_uri": "https://localhost:8080/"
    },
    "executionInfo": {
     "elapsed": 343,
     "status": "ok",
     "timestamp": 1669646092595,
     "user": {
      "displayName": "Colin Paterson",
      "userId": "11890894921089994749"
     },
     "user_tz": 0
    },
    "id": "7135be0e",
    "outputId": "fcff50d4-e71c-4479-8df3-31a98d913984"
   },
   "outputs": [],
   "source": [
    "data = random.poisson(5, 100)\n",
    "w, pvalue = stats.shapiro(data)\n",
    "print(f\"The returned p-value is {pvalue}\")\n",
    "\n",
    "if (pvalue > 0.05):\n",
    "    print(\"The test indicates that the data is likely to be normally distributed\")\n",
    "else:\n",
    "    print(\"The test indicates that the data is NOT likely to be normally distributed\")"
   ]
  },
  {
   "cell_type": "markdown",
   "id": "7431f62f",
   "metadata": {
    "id": "7431f62f"
   },
   "source": [
    "## T-Tests : checking is the difference is significant.\n",
    "\n",
    "A single sample t-test is used to check if the measure of interest is different to a known value.\n",
    "\n",
    "A two-sample t-test is use to compare two sets of results\n",
    "\n"
   ]
  },
  {
   "cell_type": "code",
   "execution_count": null,
   "id": "e366642d",
   "metadata": {
    "colab": {
     "base_uri": "https://localhost:8080/"
    },
    "executionInfo": {
     "elapsed": 372,
     "status": "ok",
     "timestamp": 1669646285141,
     "user": {
      "displayName": "Colin Paterson",
      "userId": "11890894921089994749"
     },
     "user_tz": 0
    },
    "id": "e366642d",
    "outputId": "f952ab65-267b-460a-b983-9a02efc4a842"
   },
   "outputs": [],
   "source": [
    "# Let's check if the mean of treatment 2 'significantly' different to 1.2\n",
    "\n",
    "# This line of code gives a p-value for a nu11 hypothesis that the mean is equal to 1.2\n",
    "\n",
    "experimentSize = 10\n",
    "\n",
    "exp1 = runExperiment(treat1, experimentSize)\n",
    "exp2 = runExperiment(treat2, experimentSize)\n",
    "\n",
    "stats.ttest_1samp(exp1, popmean=1.2)"
   ]
  },
  {
   "cell_type": "markdown",
   "id": "4826f4a5",
   "metadata": {
    "id": "4826f4a5"
   },
   "source": [
    "## Question :\n",
    "\n",
    "I will tell you that the 'true' mean of the generator for exp1 is 1.5.\n",
    "\n",
    "1. how many samples do you need from experiments to reliably get a p-value of less than 0.05 for the above question?\n",
    "2. How many if we want to show that with $\\alpha=0.01$ that the mean is not 1.4\n",
    "\n",
    "Play with the code in the next cell"
   ]
  },
  {
   "cell_type": "code",
   "execution_count": null,
   "id": "d14c8a9a",
   "metadata": {
    "colab": {
     "base_uri": "https://localhost:8080/"
    },
    "executionInfo": {
     "elapsed": 263,
     "status": "ok",
     "timestamp": 1669646365568,
     "user": {
      "displayName": "Colin Paterson",
      "userId": "11890894921089994749"
     },
     "user_tz": 0
    },
    "id": "d14c8a9a",
    "outputId": "72ac82f2-4b04-48ff-97fe-4de9be19bc30"
   },
   "outputs": [],
   "source": [
    "experimentSize = 10\n",
    "exp1 = runExperiment(treat1, experimentSize)\n",
    "stats.ttest_1samp(exp1, popmean=1.2)"
   ]
  },
  {
   "cell_type": "code",
   "execution_count": null,
   "id": "89576ece",
   "metadata": {
    "colab": {
     "base_uri": "https://localhost:8080/"
    },
    "executionInfo": {
     "elapsed": 5,
     "status": "ok",
     "timestamp": 1669479009790,
     "user": {
      "displayName": "Colin Paterson",
      "userId": "11890894921089994749"
     },
     "user_tz": 0
    },
    "id": "89576ece",
    "outputId": "fbc38e94-367d-49cb-b846-3755a27617aa"
   },
   "outputs": [],
   "source": [
    "# We can also provide a parameter to the function to ask if the answer is not only different but greater or less than a known value\n",
    "\n",
    "stat, p = stats.ttest_1samp(exp1, popmean=1.2, alternative='greater') # alternative='less'\n",
    "\n",
    "print(f\"p-value : {p}\")"
   ]
  },
  {
   "cell_type": "markdown",
   "id": "cdbaed21",
   "metadata": {
    "id": "cdbaed21"
   },
   "source": [
    "# Two-sample test"
   ]
  },
  {
   "cell_type": "markdown",
   "id": "fb549bdb",
   "metadata": {
    "id": "fb549bdb"
   },
   "source": [
    "## Now we are ready to compare two experiments.\n",
    "\n",
    " Let us ask the question if our method (as evaluated in experiment 2) is 'better' than the\n",
    " baseline (as evaluated in experiment 1). In this case better means the mean is higher.\n",
    "\n",
    "\n",
    "The test I demonstrate here assumes that the sets are normally distributed and have the same variance."
   ]
  },
  {
   "cell_type": "code",
   "execution_count": null,
   "id": "5af3f219",
   "metadata": {
    "colab": {
     "base_uri": "https://localhost:8080/",
     "height": 320
    },
    "executionInfo": {
     "elapsed": 293,
     "status": "ok",
     "timestamp": 1669646551229,
     "user": {
      "displayName": "Colin Paterson",
      "userId": "11890894921089994749"
     },
     "user_tz": 0
    },
    "id": "5af3f219",
    "outputId": "bc259d49-b67a-404e-e507-6b32d074c800"
   },
   "outputs": [],
   "source": [
    "# first test if the two groups have the 'same' variance\n",
    "# https://www.geeksforgeeks.org/how-to-conduct-a-two-sample-t-test-in-python/\n",
    "# https://www.jmp.com/en_gb/statistics-knowledge-portal/t-test/two-sample-t-test.html\n",
    "# https://www.bmj.com/about-bmj/resources-readers/publications/statistics-square-one/7-t-tests\n",
    "\n",
    "experimentSize = 10\n",
    "exp1 = runExperiment(treat1, experimentSize)\n",
    "exp2 = runExperiment(treat2, experimentSize)\n",
    "\n",
    "\n",
    "\n",
    "print(f\"We can calculate the variance of each as : {np.var(exp1)}, {np.var(exp2)}\")\n",
    "# Note these are 'close enough'!\n",
    "\n",
    "# Note that greater means that a > b is our alternative hypothesis\n",
    "w, p = stats.ttest_ind(a=exp2, b=exp1, equal_var=True, alternative='greater')\n",
    "\n",
    "print(f\"p-value result : {p}\")\n",
    "\n",
    "plt.hist(exp1, alpha=0.5, color='blue')\n",
    "plt.hist(exp2, alpha=0.5, color='red')\n",
    "plt.show()"
   ]
  },
  {
   "cell_type": "markdown",
   "id": "a131e097",
   "metadata": {
    "id": "a131e097"
   },
   "source": [
    "# Non-Normal Distributions"
   ]
  },
  {
   "cell_type": "markdown",
   "id": "1ba02999",
   "metadata": {
    "id": "1ba02999"
   },
   "source": [
    "Sometimes it is really easy to see that data is non-normal just by looking at it."
   ]
  },
  {
   "cell_type": "code",
   "execution_count": null,
   "id": "31117672",
   "metadata": {
    "colab": {
     "base_uri": "https://localhost:8080/",
     "height": 285
    },
    "executionInfo": {
     "elapsed": 1244,
     "status": "ok",
     "timestamp": 1669646611848,
     "user": {
      "displayName": "Colin Paterson",
      "userId": "11890894921089994749"
     },
     "user_tz": 0
    },
    "id": "31117672",
    "outputId": "72ee0e4b-edd2-4178-cbea-f4d509842c40"
   },
   "outputs": [],
   "source": [
    "data = pd.read_csv('https://raw.githubusercontent.com/cap508/PythonNotebooks/main/Quant/strangeData.csv', header=None).values\n",
    "\n",
    "plt.hist(data, bins=50)\n",
    "plt.show()"
   ]
  },
  {
   "cell_type": "markdown",
   "id": "c7fcc2ff",
   "metadata": {
    "id": "c7fcc2ff"
   },
   "source": [
    "But if we can't get lots of data it becomes harder"
   ]
  },
  {
   "cell_type": "code",
   "execution_count": null,
   "id": "d28fd39d",
   "metadata": {
    "colab": {
     "base_uri": "https://localhost:8080/",
     "height": 285
    },
    "executionInfo": {
     "elapsed": 559,
     "status": "ok",
     "timestamp": 1669646696433,
     "user": {
      "displayName": "Colin Paterson",
      "userId": "11890894921089994749"
     },
     "user_tz": 0
    },
    "id": "d28fd39d",
    "outputId": "eb58d793-3cb3-4063-ce10-0d0584f87544"
   },
   "outputs": [],
   "source": [
    "experimentSize = 30\n",
    "expData = runExperiment(treat1, experimentSize)\n",
    "\n",
    "plt.hist(expData)\n",
    "plt.show()"
   ]
  },
  {
   "cell_type": "markdown",
   "id": "f4e963f8",
   "metadata": {
    "id": "f4e963f8"
   },
   "source": [
    "So let's look at some tests applied to less obviously non-normal data"
   ]
  },
  {
   "cell_type": "code",
   "execution_count": null,
   "id": "1af89316",
   "metadata": {
    "id": "1af89316"
   },
   "outputs": [],
   "source": [
    "# Let's start by getting the full data sets\n",
    "\n",
    "treat3 = pd.read_csv('https://raw.githubusercontent.com/cap508/PythonNotebooks/main/Quant/treat3.csv', header=None).values\n",
    "treat3 = treat3[:,0]\n",
    "\n",
    "treat4 = pd.read_csv('https://raw.githubusercontent.com/cap508/PythonNotebooks/main/Quant/treat4.csv', header=None).values\n",
    "treat4 = treat4[:,0]\n",
    "\n",
    "treat5 = pd.read_csv('https://raw.githubusercontent.com/cap508/PythonNotebooks/main/Quant/treat5.csv', header=None).values\n",
    "treat5 = treat5[:,0]\n",
    "\n",
    "treat6 = pd.read_csv('https://raw.githubusercontent.com/cap508/PythonNotebooks/main/Quant/treat6.csv', header=None).values\n",
    "treat6 = treat6[:,0]\n"
   ]
  },
  {
   "cell_type": "code",
   "execution_count": null,
   "id": "bafc6b41",
   "metadata": {
    "colab": {
     "base_uri": "https://localhost:8080/",
     "height": 534
    },
    "executionInfo": {
     "elapsed": 809,
     "status": "ok",
     "timestamp": 1669646728699,
     "user": {
      "displayName": "Colin Paterson",
      "userId": "11890894921089994749"
     },
     "user_tz": 0
    },
    "id": "bafc6b41",
    "outputId": "6bb74f08-3d4e-422f-88ee-c3ef9a596b24"
   },
   "outputs": [],
   "source": [
    "# Visualise\n",
    "\n",
    "plt.hist(treat3, color='blue', alpha=0.5, bins=50)\n",
    "plt.hist(treat4, color='red', alpha=0.5, bins=50)\n",
    "plt.show()\n",
    "\n",
    "plt.hist(treat5, color='blue', alpha=0.5, bins=50)\n",
    "plt.hist(treat6, color='red', alpha=0.5, bins=50)\n",
    "plt.show()"
   ]
  },
  {
   "cell_type": "markdown",
   "id": "24336c37",
   "metadata": {
    "id": "24336c37"
   },
   "source": [
    "# Try:\n",
    "\n",
    "1. Running test for normally on the data sets\n",
    "2. What is the standard distribution for each set, and what does it mean for these distributions\n",
    "3. Apply t-tests to test for differences in the sets. What do the results tell you?"
   ]
  },
  {
   "cell_type": "code",
   "execution_count": null,
   "id": "ac7d720f",
   "metadata": {
    "id": "ac7d720f"
   },
   "outputs": [],
   "source": [
    " #Enter your code here\n",
    "\n",
    "experimentSize = 10\n",
    "expData1 = runExperiment(treat1, experimentSize)\n",
    "expData1 = runExperiment(treat2, experimentSize)\n",
    "\n"
   ]
  },
  {
   "cell_type": "markdown",
   "id": "1b4b9c7a",
   "metadata": {
    "id": "1b4b9c7a"
   },
   "source": [
    "# Non-Parametric"
   ]
  },
  {
   "cell_type": "markdown",
   "id": "ec21aeb4",
   "metadata": {
    "id": "ec21aeb4"
   },
   "source": [
    "Many of the data sets you come across will be non-parametric, meaning that there is not a model for the data that can be characterised using a fixed number of parameters. Under such circumstances using the tests outlined above are at best misleading and at worst wrong.\n",
    "\n",
    "Don't worry however, for every paramteric test there is a non-parametric equivalent.\n",
    "\n",
    "Here is a very short video that shows some of the alternatives:\n",
    "\n",
    "https://www.youtube.com/watch?v=biXY84hDX5M\n",
    "\n",
    "Instead of the t-test one can use the Mann-Whitney U test to look for significant difference in non-paramteric data."
   ]
  },
  {
   "cell_type": "code",
   "execution_count": null,
   "id": "4a06ff19",
   "metadata": {
    "colab": {
     "base_uri": "https://localhost:8080/"
    },
    "executionInfo": {
     "elapsed": 394,
     "status": "ok",
     "timestamp": 1669646884678,
     "user": {
      "displayName": "Colin Paterson",
      "userId": "11890894921089994749"
     },
     "user_tz": 0
    },
    "id": "4a06ff19",
    "outputId": "1b80dac2-b3f1-4934-d8dd-af4f6f8cf59c"
   },
   "outputs": [],
   "source": [
    "# Let's start by looking at treatments 3 & 4\n",
    "from scipy.stats import mannwhitneyu\n",
    "\n",
    "# Note that the analysis increases in complexity rapidly for large sample sizes\n",
    "experimentSize = 10\n",
    "expData1 = runExperiment(treat3, experimentSize)\n",
    "expData2 = runExperiment(treat4, experimentSize)\n",
    "\n",
    "\n",
    "U1, p = mannwhitneyu(expData1, expData2, method=\"exact\")\n",
    "print(f\"The p-value reported is {p}\")\n",
    "\n"
   ]
  },
  {
   "cell_type": "code",
   "execution_count": null,
   "id": "1a8a8c9d",
   "metadata": {
    "id": "1a8a8c9d"
   },
   "outputs": [],
   "source": [
    "# A nice example of the mann whitney u test is available at.\n",
    "# https://www.reneshbedre.com/blog/mann-whitney-u-test.html\n",
    "# The following cells are based on use the code coded at that site\n",
    "\n",
    "\n",
    "import pandas as pd\n",
    "df = pd.read_csv(\"https://reneshbedre.github.io/assets/posts/mann_whitney/genotype.csv\")"
   ]
  },
  {
   "cell_type": "code",
   "execution_count": null,
   "id": "cdfba10d",
   "metadata": {
    "colab": {
     "base_uri": "https://localhost:8080/",
     "height": 260
    },
    "executionInfo": {
     "elapsed": 337,
     "status": "ok",
     "timestamp": 1669646919579,
     "user": {
      "displayName": "Colin Paterson",
      "userId": "11890894921089994749"
     },
     "user_tz": 0
    },
    "id": "cdfba10d",
    "outputId": "9c8aa633-5886-46f6-ec7d-cd0dc742c522"
   },
   "outputs": [],
   "source": [
    "# get summary statistics\n",
    "df.agg([\"count\", \"min\", \"max\", \"median\", \"mean\", \"skew\"])"
   ]
  },
  {
   "cell_type": "code",
   "execution_count": null,
   "id": "20563d11",
   "metadata": {
    "colab": {
     "base_uri": "https://localhost:8080/",
     "height": 386
    },
    "executionInfo": {
     "elapsed": 1047,
     "status": "ok",
     "timestamp": 1669646929374,
     "user": {
      "displayName": "Colin Paterson",
      "userId": "11890894921089994749"
     },
     "user_tz": 0
    },
    "id": "20563d11",
    "outputId": "061d5668-2fb1-4656-d705-ea117c1288d9"
   },
   "outputs": [],
   "source": [
    "df.head(10)"
   ]
  },
  {
   "cell_type": "code",
   "execution_count": null,
   "id": "4b7da4a5",
   "metadata": {
    "colab": {
     "base_uri": "https://localhost:8080/",
     "height": 285
    },
    "executionInfo": {
     "elapsed": 411,
     "status": "ok",
     "timestamp": 1669646932372,
     "user": {
      "displayName": "Colin Paterson",
      "userId": "11890894921089994749"
     },
     "user_tz": 0
    },
    "id": "4b7da4a5",
    "outputId": "a612bb48-4698-4fe0-fbdf-41e74c073350"
   },
   "outputs": [],
   "source": [
    "# generate boxplot to visualize the  data\n",
    "import matplotlib.pyplot as plt\n",
    "df.boxplot(column=['A', 'B'], grid=False)\n",
    "plt.show()"
   ]
  },
  {
   "cell_type": "code",
   "execution_count": null,
   "id": "904abdcd",
   "metadata": {
    "colab": {
     "base_uri": "https://localhost:8080/"
    },
    "executionInfo": {
     "elapsed": 567,
     "status": "ok",
     "timestamp": 1669647107790,
     "user": {
      "displayName": "Colin Paterson",
      "userId": "11890894921089994749"
     },
     "user_tz": 0
    },
    "id": "904abdcd",
    "outputId": "db9165bd-9b47-4361-c3fa-e2c75f7f2c4b"
   },
   "outputs": [],
   "source": [
    " w, pvalue = stats.shapiro(df['A'])\n",
    "print(f\"p-value for set A {pvalue}. Less than 0.05 indicated not normal\") # p-value < 0.05 == not normal\n",
    "\n",
    "w, pvalue = stats.shapiro(df['B'])\n",
    "print(f\"p-value for set B {pvalue}. Less than 0.05 indicated not normal\") # p-value < 0.05 == not normal\n"
   ]
  },
  {
   "cell_type": "code",
   "execution_count": null,
   "id": "f809119d",
   "metadata": {
    "colab": {
     "base_uri": "https://localhost:8080/"
    },
    "executionInfo": {
     "elapsed": 706,
     "status": "ok",
     "timestamp": 1669647111427,
     "user": {
      "displayName": "Colin Paterson",
      "userId": "11890894921089994749"
     },
     "user_tz": 0
    },
    "id": "f809119d",
    "outputId": "f0925099-5155-4a4d-8f96-f1fdfae061fb"
   },
   "outputs": [],
   "source": [
    "# perform two-sided test. You can use 'greater' or 'less' for one-sided test\n",
    "stat, p = stats.mannwhitneyu(x=df['A'], y=df['B'], alternative = 'two-sided')\n",
    "\n",
    "print(f\"They different if {p} < 0.05\")"
   ]
  },
  {
   "cell_type": "code",
   "execution_count": null,
   "id": "4ed22607",
   "metadata": {
    "colab": {
     "base_uri": "https://localhost:8080/"
    },
    "executionInfo": {
     "elapsed": 249,
     "status": "ok",
     "timestamp": 1669647122506,
     "user": {
      "displayName": "Colin Paterson",
      "userId": "11890894921089994749"
     },
     "user_tz": 0
    },
    "id": "4ed22607",
    "outputId": "7ab07112-c180-4384-c08d-d55bad252c98"
   },
   "outputs": [],
   "source": [
    "w,p = stats.mannwhitneyu(x=df['A'], y=df['B'], alternative = 'greater')\n",
    "\n",
    "print(f\"A is greater than B if {p} < 0.05\")"
   ]
  },
  {
   "cell_type": "markdown",
   "id": "f651371d",
   "metadata": {
    "id": "f651371d"
   },
   "source": [
    "# Take away messages"
   ]
  },
  {
   "cell_type": "markdown",
   "id": "314ca114",
   "metadata": {
    "id": "314ca114"
   },
   "source": [
    "1. Just because there is difference in data doesn't mean your test worked.\n",
    "2. It is easy to apply statistical tests and get values but it is important to understand what they actually mean.\n",
    "3. Not all data is normally distributed so don't think you can always apply normal tests.\n",
    "4. You will have to understand and defend your conclusions, make sure you understand your data and your analysis."
   ]
  },
  {
   "cell_type": "markdown",
   "id": "e4ad2f98",
   "metadata": {
    "id": "e4ad2f98"
   },
   "source": [
    "### Further Reading\n",
    "\n",
    "Little Inference Book\n",
    "https://leanpub.com/LittleInferenceBook\n",
    "\n",
    "\n",
    "Non-parametric statistics a step-by-step approach\n",
    "https://faculty.ksu.edu.sa/sites/default/files/nonparametric_statistics_a_step-by-step_approach.pdf\n",
    "\n",
    "Understanding statistics and experimental design\n",
    "https://link.springer.com/book/10.1007/978-3-030-03499-3\n"
   ]
  },
  {
   "cell_type": "code",
   "execution_count": null,
   "id": "61590cec",
   "metadata": {
    "id": "61590cec"
   },
   "outputs": [],
   "source": []
  }
 ],
 "metadata": {
  "colab": {
   "provenance": []
  },
  "kernelspec": {
   "display_name": "Python 3 (ipykernel)",
   "language": "python",
   "name": "python3"
  },
  "language_info": {
   "codemirror_mode": {
    "name": "ipython",
    "version": 3
   },
   "file_extension": ".py",
   "mimetype": "text/x-python",
   "name": "python",
   "nbconvert_exporter": "python",
   "pygments_lexer": "ipython3",
   "version": "3.8.8"
  }
 },
 "nbformat": 4,
 "nbformat_minor": 5
}
